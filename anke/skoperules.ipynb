{
 "cells": [
  {
   "cell_type": "markdown",
   "metadata": {},
   "source": [
    "# SkopeRules"
   ]
  },
  {
   "cell_type": "code",
   "execution_count": 19,
   "metadata": {},
   "outputs": [],
   "source": [
    "from sklearn.model_selection import train_test_split\n",
    "from sklearn.metrics import classification_report, confusion_matrix, ConfusionMatrixDisplay, precision_recall_curve\n",
    "from skrules import SkopeRules\n",
    "from preprocessing import *\n",
    "import matplotlib.pyplot as plt \n",
    "#import shap \n",
    "import numpy as np"
   ]
  },
  {
   "cell_type": "code",
   "execution_count": 20,
   "metadata": {},
   "outputs": [],
   "source": [
    "le = LabelEncoder()\n",
    "\n",
    "def clean_data(filename):\n",
    "\n",
    "    print(\"Importing data...\")\n",
    "    data = pd.read_csv(datapath+filename, index_col=0)\n",
    "\n",
    "    # Separate majority and minority classes\n",
    "    df_majority = data[data['is_fraud'] == 0]\n",
    "    df_minority = data[data['is_fraud'] == 1]\n",
    "\n",
    "    # Downsample majority class to match the minority class size (or a bit more if you like)\n",
    "    df_majority_downsampled = df_majority.sample(n=10000, random_state=42)\n",
    "\n",
    "    # Combine minority class with downsampled majority\n",
    "    df_balanced = pd.concat([df_minority, df_majority_downsampled])\n",
    "\n",
    "    # Shuffle the dataset\n",
    "    data = df_balanced.sample(frac=1, random_state=42).reset_index(drop=True)\n",
    "\n",
    "    print(\"splitting time columns...\")\n",
    "    data[\"trans_date_trans_time\"] = pd.to_datetime(data[\"trans_date_trans_time\"])\n",
    "\n",
    "    #data['trans_minute'] = data['trans_date_trans_time'].dt.minute\n",
    "    #data['trans_hour'] = data['trans_date_trans_time'].dt.hour\n",
    "    #data['trans_day'] = data['trans_date_trans_time'].dt.day\n",
    "    data['trans_month'] = data['trans_date_trans_time'].dt.month\n",
    "    data['trans_year'] = data['trans_date_trans_time'].dt.year\n",
    "    data['trans_dayofweek'] = data['trans_date_trans_time'].dt.dayofweek\n",
    "\n",
    "    data[\"dob\"] = pd.to_datetime(data[\"dob\"])\n",
    "    #data[\"dob_day\"] = data[\"dob\"].dt.day\n",
    "    data[\"dob_month\"] = data[\"dob\"].dt.month\n",
    "    data[\"dob_year\"] = data[\"dob\"].dt.year\n",
    "\n",
    "    print(\"Dropping columns...\")\n",
    "    data = data.drop([\"cc_num\",\"long\", \"merch_long\", \"lat\", \n",
    "                      \"merch_lat\", \"unix_time\", \n",
    "                      \"trans_date_trans_time\",\n",
    "                      \"first\", \"last\", \"dob\",\"trans_num\",\"zip\"\n",
    "                      ], axis=1)\n",
    "    \n",
    "    print(\"Rounding columns...\")\n",
    "    data[[\"trans_month\", \"trans_year\", \"trans_dayofweek\", \"dob_month\", \"dob_day\", \"city_pop\"]] = data[[\"trans_month\", \"trans_year\", \"trans_dayofweek\", \"dob_year\", \"dob_month\", \"city_pop\"]].round(decimals=0)\n",
    "\n",
    "    data[\"amt\"] = data[\"amt\"].round(decimals=2)\n",
    "\n",
    "    cat_data = data.select_dtypes(include=[\"object\"])\n",
    "\n",
    "    print(data.columns)\n",
    "\n",
    "    print(\"Encoding categorical features...\")\n",
    "    label_encoders = {}\n",
    "    inverse_mappings = {}\n",
    "\n",
    "    for col in cat_data.columns:\n",
    "        data[col] = le.fit_transform(data[col])\n",
    "        label_encoders[col] = le\n",
    "        inverse_mappings[col] = dict(zip(le.transform(le.classes_), le.classes_))\n",
    "\n",
    "    print(\"Rounding categorical columns...\")\n",
    "    data[[\"merchant\", \"category\", \"street\", \"city\", \"state\", \"job\"]] = data[[\"merchant\", \"category\", \"street\", \"city\", \"state\", \"job\"]].round(decimals=0)\n",
    "\n",
    "    \n",
    "    print(data.head())\n",
    "\n",
    "\n",
    "    return data, inverse_mappings"
   ]
  },
  {
   "cell_type": "code",
   "execution_count": 21,
   "metadata": {},
   "outputs": [
    {
     "name": "stdout",
     "output_type": "stream",
     "text": [
      "Importing data...\n",
      "splitting time columns...\n",
      "Dropping columns...\n",
      "Rounding columns...\n",
      "Index(['merchant', 'category', 'amt', 'gender', 'street', 'city', 'state',\n",
      "       'city_pop', 'job', 'is_fraud', 'trans_month', 'trans_year',\n",
      "       'trans_dayofweek', 'dob_month', 'dob_year', 'dob_day'],\n",
      "      dtype='object')\n",
      "Encoding categorical features...\n",
      "Rounding categorical columns...\n",
      "   merchant  category     amt  gender  street  city  state  city_pop  job  \\\n",
      "0       365         2   70.61       1     264   794     27     14075   56   \n",
      "1       179        12   68.16       1     742   634     17      1565  124   \n",
      "2        78         7  133.34       1     939   604      4    381459   43   \n",
      "3       586         0  614.72       0     534    47     41        63  447   \n",
      "4       304        11  997.39       1     454   194     43   1263321  460   \n",
      "\n",
      "   is_fraud  trans_month  trans_year  trans_dayofweek  dob_month  dob_year  \\\n",
      "0         0            7        2019                3       1929      1929   \n",
      "1         0           11        2019                4       1968      1968   \n",
      "2         0            6        2019                5       1974      1974   \n",
      "3         1            6        2020                5       1969      1969   \n",
      "4         1            9        2020                0       1942      1942   \n",
      "\n",
      "   dob_day  \n",
      "0        4  \n",
      "1        7  \n",
      "2        1  \n",
      "3       10  \n",
      "4       11  \n"
     ]
    }
   ],
   "source": [
    "# Load the dataset \n",
    "data, inverse_mappings = clean_data(\"fraud.csv\")  "
   ]
  },
  {
   "cell_type": "code",
   "execution_count": 22,
   "metadata": {},
   "outputs": [],
   "source": [
    "# Splitting features and target variable\n",
    "X = data.drop(\"is_fraud\", axis=1)\n",
    "y = data[\"is_fraud\"]\n",
    "X_train, X_test, y_train, y_test = train_test_split(X, y, test_size=0.4, random_state=42)"
   ]
  },
  {
   "cell_type": "code",
   "execution_count": 23,
   "metadata": {},
   "outputs": [
    {
     "name": "stdout",
     "output_type": "stream",
     "text": [
      "fitting the model\n"
     ]
    },
    {
     "name": "stderr",
     "output_type": "stream",
     "text": [
      "`base_estimator` was renamed to `estimator` in version 1.2 and will be removed in 1.4.\n",
      "`base_estimator` was renamed to `estimator` in version 1.2 and will be removed in 1.4.\n"
     ]
    },
    {
     "data": {
      "text/html": [
       "<style>#sk-container-id-3 {color: black;}#sk-container-id-3 pre{padding: 0;}#sk-container-id-3 div.sk-toggleable {background-color: white;}#sk-container-id-3 label.sk-toggleable__label {cursor: pointer;display: block;width: 100%;margin-bottom: 0;padding: 0.3em;box-sizing: border-box;text-align: center;}#sk-container-id-3 label.sk-toggleable__label-arrow:before {content: \"▸\";float: left;margin-right: 0.25em;color: #696969;}#sk-container-id-3 label.sk-toggleable__label-arrow:hover:before {color: black;}#sk-container-id-3 div.sk-estimator:hover label.sk-toggleable__label-arrow:before {color: black;}#sk-container-id-3 div.sk-toggleable__content {max-height: 0;max-width: 0;overflow: hidden;text-align: left;background-color: #f0f8ff;}#sk-container-id-3 div.sk-toggleable__content pre {margin: 0.2em;color: black;border-radius: 0.25em;background-color: #f0f8ff;}#sk-container-id-3 input.sk-toggleable__control:checked~div.sk-toggleable__content {max-height: 200px;max-width: 100%;overflow: auto;}#sk-container-id-3 input.sk-toggleable__control:checked~label.sk-toggleable__label-arrow:before {content: \"▾\";}#sk-container-id-3 div.sk-estimator input.sk-toggleable__control:checked~label.sk-toggleable__label {background-color: #d4ebff;}#sk-container-id-3 div.sk-label input.sk-toggleable__control:checked~label.sk-toggleable__label {background-color: #d4ebff;}#sk-container-id-3 input.sk-hidden--visually {border: 0;clip: rect(1px 1px 1px 1px);clip: rect(1px, 1px, 1px, 1px);height: 1px;margin: -1px;overflow: hidden;padding: 0;position: absolute;width: 1px;}#sk-container-id-3 div.sk-estimator {font-family: monospace;background-color: #f0f8ff;border: 1px dotted black;border-radius: 0.25em;box-sizing: border-box;margin-bottom: 0.5em;}#sk-container-id-3 div.sk-estimator:hover {background-color: #d4ebff;}#sk-container-id-3 div.sk-parallel-item::after {content: \"\";width: 100%;border-bottom: 1px solid gray;flex-grow: 1;}#sk-container-id-3 div.sk-label:hover label.sk-toggleable__label {background-color: #d4ebff;}#sk-container-id-3 div.sk-serial::before {content: \"\";position: absolute;border-left: 1px solid gray;box-sizing: border-box;top: 0;bottom: 0;left: 50%;z-index: 0;}#sk-container-id-3 div.sk-serial {display: flex;flex-direction: column;align-items: center;background-color: white;padding-right: 0.2em;padding-left: 0.2em;position: relative;}#sk-container-id-3 div.sk-item {position: relative;z-index: 1;}#sk-container-id-3 div.sk-parallel {display: flex;align-items: stretch;justify-content: center;background-color: white;position: relative;}#sk-container-id-3 div.sk-item::before, #sk-container-id-3 div.sk-parallel-item::before {content: \"\";position: absolute;border-left: 1px solid gray;box-sizing: border-box;top: 0;bottom: 0;left: 50%;z-index: -1;}#sk-container-id-3 div.sk-parallel-item {display: flex;flex-direction: column;z-index: 1;position: relative;background-color: white;}#sk-container-id-3 div.sk-parallel-item:first-child::after {align-self: flex-end;width: 50%;}#sk-container-id-3 div.sk-parallel-item:last-child::after {align-self: flex-start;width: 50%;}#sk-container-id-3 div.sk-parallel-item:only-child::after {width: 0;}#sk-container-id-3 div.sk-dashed-wrapped {border: 1px dashed gray;margin: 0 0.4em 0.5em 0.4em;box-sizing: border-box;padding-bottom: 0.4em;background-color: white;}#sk-container-id-3 div.sk-label label {font-family: monospace;font-weight: bold;display: inline-block;line-height: 1.2em;}#sk-container-id-3 div.sk-label-container {text-align: center;}#sk-container-id-3 div.sk-container {/* jupyter's `normalize.less` sets `[hidden] { display: none; }` but bootstrap.min.css set `[hidden] { display: none !important; }` so we also need the `!important` here to be able to override the default hidden behavior on the sphinx rendered scikit-learn.org. See: https://github.com/scikit-learn/scikit-learn/issues/21755 */display: inline-block !important;position: relative;}#sk-container-id-3 div.sk-text-repr-fallback {display: none;}</style><div id=\"sk-container-id-3\" class=\"sk-top-container\"><div class=\"sk-text-repr-fallback\"><pre>SkopeRules(feature_names=Index([&#x27;merchant&#x27;, &#x27;category&#x27;, &#x27;amt&#x27;, &#x27;gender&#x27;, &#x27;street&#x27;, &#x27;city&#x27;, &#x27;state&#x27;,\n",
       "       &#x27;city_pop&#x27;, &#x27;job&#x27;, &#x27;trans_month&#x27;, &#x27;trans_year&#x27;, &#x27;trans_dayofweek&#x27;,\n",
       "       &#x27;dob_month&#x27;, &#x27;dob_year&#x27;, &#x27;dob_day&#x27;],\n",
       "      dtype=&#x27;object&#x27;),\n",
       "           n_estimators=30, random_state=42)</pre><b>In a Jupyter environment, please rerun this cell to show the HTML representation or trust the notebook. <br />On GitHub, the HTML representation is unable to render, please try loading this page with nbviewer.org.</b></div><div class=\"sk-container\" hidden><div class=\"sk-item\"><div class=\"sk-estimator sk-toggleable\"><input class=\"sk-toggleable__control sk-hidden--visually\" id=\"sk-estimator-id-3\" type=\"checkbox\" checked><label for=\"sk-estimator-id-3\" class=\"sk-toggleable__label sk-toggleable__label-arrow\">SkopeRules</label><div class=\"sk-toggleable__content\"><pre>SkopeRules(feature_names=Index([&#x27;merchant&#x27;, &#x27;category&#x27;, &#x27;amt&#x27;, &#x27;gender&#x27;, &#x27;street&#x27;, &#x27;city&#x27;, &#x27;state&#x27;,\n",
       "       &#x27;city_pop&#x27;, &#x27;job&#x27;, &#x27;trans_month&#x27;, &#x27;trans_year&#x27;, &#x27;trans_dayofweek&#x27;,\n",
       "       &#x27;dob_month&#x27;, &#x27;dob_year&#x27;, &#x27;dob_day&#x27;],\n",
       "      dtype=&#x27;object&#x27;),\n",
       "           n_estimators=30, random_state=42)</pre></div></div></div></div></div>"
      ],
      "text/plain": [
       "SkopeRules(feature_names=Index(['merchant', 'category', 'amt', 'gender', 'street', 'city', 'state',\n",
       "       'city_pop', 'job', 'trans_month', 'trans_year', 'trans_dayofweek',\n",
       "       'dob_month', 'dob_year', 'dob_day'],\n",
       "      dtype='object'),\n",
       "           n_estimators=30, random_state=42)"
      ]
     },
     "execution_count": 23,
     "metadata": {},
     "output_type": "execute_result"
    }
   ],
   "source": [
    "# Step 3: Fit the SkopeRules model\n",
    "skope = SkopeRules(\n",
    "    feature_names=X_train.columns,\n",
    "    precision_min=0.5,\n",
    "    recall_min=0.01,\n",
    "    n_estimators=30,\n",
    "    random_state=42\n",
    ")\n",
    "\n",
    "print(\"fitting the model\")\n",
    "skope.fit(X_train, y_train)"
   ]
  },
  {
   "cell_type": "code",
   "execution_count": 24,
   "metadata": {},
   "outputs": [],
   "source": [
    "#def predict_as_proba(X):\n",
    "#    preds = skope.predict(X)  # skope.predict returns 0 or 1\n",
    "#    return np.vstack([1 - preds, preds]).T  # Turn into probabilities"
   ]
  },
  {
   "cell_type": "code",
   "execution_count": 25,
   "metadata": {},
   "outputs": [],
   "source": [
    "# Pick some explanation baseline \n",
    "#X_explain = X_train.sample(100, random_state=42)\n",
    "\n",
    "# Use shap.Explainer (not KernelExplainer)\n",
    "#explainer = shap.KernelExplainer(predict_as_proba, X_explain)\n",
    "\n",
    "# Compute SHAP values\n",
    "#X_test_sample = X_test.sample(100, random_state=42)\n",
    "#shap_values = explainer.shap_values(X_test)\n",
    "\n",
    "#shap.summary_plot(shap_values[1], X_test_sample, plot_type=\"violin\", show=False)\n",
    "#plt.savefig(\"shap_summary_violin2.png\")\n",
    "#plt.close()"
   ]
  },
  {
   "cell_type": "code",
   "execution_count": 26,
   "metadata": {},
   "outputs": [
    {
     "name": "stdout",
     "output_type": "stream",
     "text": [
      "finding rules for is_fraud\n",
      "printing rules\n",
      "('category <= 12.5 and amt <= 1435.4800415039062 and amt > 238.31500244140625', (0.976536312849162, 0.7680140597539543, 2))\n",
      "\n",
      "====================\n",
      "\n",
      "('category <= 12.5 and amt <= 1435.4800415039062 and amt > 238.1300048828125', (0.9684329199549042, 0.7655971479500892, 2))\n",
      "\n",
      "====================\n",
      "\n",
      "('category <= 12.5 and amt <= 1435.4800415039062 and amt > 235.1699981689453', (0.9735901157859534, 0.7611994904609551, 4))\n",
      "\n",
      "====================\n",
      "\n",
      "('category <= 12.5 and amt <= 1435.4800415039062 and amt > 235.8499984741211', (0.9668141592920354, 0.7633187772925765, 2))\n",
      "\n",
      "====================\n",
      "\n",
      "('category <= 12.5 and amt <= 1416.6099853515625 and amt > 235.8499984741211', (0.9666307857911733, 0.7597292724196277, 2))\n",
      "\n",
      "====================\n",
      "\n",
      "('category <= 12.5 and amt <= 1435.4800415039062 and amt > 245.5800018310547', (0.970225730071034, 0.7567390367504212, 4))\n",
      "\n",
      "====================\n",
      "\n",
      "('category <= 12.5 and amt <= 1435.4800415039062 and amt > 236.2949981689453', (0.9668540219288098, 0.7572575074516267, 8))\n",
      "\n",
      "====================\n",
      "\n",
      "('category <= 12.5 and amt <= 1416.6099853515625 and amt > 235.1699981689453', (0.9705555555555556, 0.7540210392037352, 4))\n",
      "\n",
      "====================\n",
      "\n",
      "('category <= 12.5 and amt > 245.5800018310547', (0.9732972503953763, 0.749455091524185, 8))\n",
      "\n",
      "====================\n",
      "\n",
      "('category <= 12.5 and amt <= 1435.4800415039062 and amt > 233.0', (0.9623893805309734, 0.7558644656820156, 2))\n",
      "\n",
      "====================\n",
      "\n"
     ]
    }
   ],
   "source": [
    "print(\"finding rules for is_fraud\")\n",
    "rules = skope.rules_[:10]\n",
    "\n",
    "print(\"printing rules\")\n",
    "for rule in rules:\n",
    "    print(rule)\n",
    "    print()\n",
    "    print(20*'=')\n",
    "    print()"
   ]
  },
  {
   "cell_type": "code",
   "execution_count": 27,
   "metadata": {},
   "outputs": [
    {
     "name": "stdout",
     "output_type": "stream",
     "text": [
      "SkopeRules Classification Report:\n",
      "              precision    recall  f1-score   support\n",
      "\n",
      "           0       0.94      0.79      0.86      3966\n",
      "           1       0.81      0.95      0.88      3895\n",
      "\n",
      "    accuracy                           0.87      7861\n",
      "   macro avg       0.88      0.87      0.87      7861\n",
      "weighted avg       0.88      0.87      0.87      7861\n",
      "\n"
     ]
    }
   ],
   "source": [
    "# Step 4: Predict and evaluate\n",
    "y_pred_skope = skope.predict(X_test)\n",
    "\n",
    "print(\"SkopeRules Classification Report:\")\n",
    "print(classification_report(y_test, y_pred_skope))"
   ]
  },
  {
   "cell_type": "code",
   "execution_count": 28,
   "metadata": {},
   "outputs": [
    {
     "data": {
      "text/plain": [
       "<sklearn.metrics._plot.confusion_matrix.ConfusionMatrixDisplay at 0x154523af0>"
      ]
     },
     "execution_count": 28,
     "metadata": {},
     "output_type": "execute_result"
    }
   ],
   "source": [
    "# Confusion matrix\n",
    "cm = confusion_matrix(y_test, y_pred_skope)\n",
    "disp = ConfusionMatrixDisplay(confusion_matrix=cm, display_labels=[\"Not Fraud\", \"Fraud\"])\n",
    "disp.plot(cmap=\"Oranges\")"
   ]
  }
 ],
 "metadata": {
  "kernelspec": {
   "display_name": "skoperules38",
   "language": "python",
   "name": "python3"
  },
  "language_info": {
   "codemirror_mode": {
    "name": "ipython",
    "version": 3
   },
   "file_extension": ".py",
   "mimetype": "text/x-python",
   "name": "python",
   "nbconvert_exporter": "python",
   "pygments_lexer": "ipython3",
   "version": "3.8.20"
  }
 },
 "nbformat": 4,
 "nbformat_minor": 2
}
