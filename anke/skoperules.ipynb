{
 "cells": [
  {
   "cell_type": "markdown",
   "metadata": {},
   "source": [
    "# SkopeRules"
   ]
  },
  {
   "cell_type": "code",
   "execution_count": null,
   "metadata": {},
   "outputs": [
    {
     "name": "stdout",
     "output_type": "stream",
     "text": [
      "HAHAHA /Users/ankelovset/Documents/Master/2. Semester/INFO381-AI/info381\n"
     ]
    }
   ],
   "source": [
    "from sklearn.model_selection import train_test_split\n",
    "from sklearn.metrics import classification_report, confusion_matrix, ConfusionMatrixDisplay, precision_recall_curve\n",
    "from skrules import SkopeRules\n",
    "from preprocessing import *\n",
    "import matplotlib.pyplot as plt \n",
    "import numpy as np"
   ]
  },
  {
   "cell_type": "code",
   "execution_count": 5,
   "metadata": {},
   "outputs": [
    {
     "name": "stdout",
     "output_type": "stream",
     "text": [
      "Importing data...\n",
      "splitting time columns...\n",
      "Finding natural clusters...\n"
     ]
    },
    {
     "name": "stderr",
     "output_type": "stream",
     "text": [
      "/Users/ankelovset/anaconda3/envs/skoperules38/lib/python3.8/site-packages/sklearn/cluster/_kmeans.py:1934: FutureWarning: The default value of `n_init` will change from 3 to 'auto' in 1.4. Set the value of `n_init` explicitly to suppress the warning\n",
      "  super()._check_params_vs_input(X, default_n_init=3)\n"
     ]
    },
    {
     "name": "stdout",
     "output_type": "stream",
     "text": [
      "adding distances\n",
      "Dropping columns...\n",
      "Rounding columns...\n",
      "Index(['cc_num', 'merchant', 'category', 'amt', 'gender', 'street', 'city',\n",
      "       'state', 'zip', 'city_pop', 'job', 'trans_num', 'is_fraud',\n",
      "       'trans_minute', 'trans_hour', 'trans_day', 'trans_month', 'trans_year',\n",
      "       'trans_dayofweek', 'dob_day', 'dob_month', 'dob_year',\n",
      "       'merchant_buyer_distance', 'merchant_cluster_id', 'buyer_cluster_id'],\n",
      "      dtype='object')\n",
      "Encoding categorical features...\n",
      "Rounding categorical columns...\n",
      "             cc_num  merchant  category     amt  gender  street  city  state  \\\n",
      "0  2703186189652095       514         8    4.97       0     576   532     27   \n",
      "1      630423337322       241         4  107.23       0     439   619     47   \n",
      "2    38859492057661       390         0  220.11       1     610   474     13   \n",
      "3  3534093764340240       360         2   45.00       1     945    84     26   \n",
      "4   375534208663984       297         9   41.96       1     422   217     45   \n",
      "\n",
      "     zip  city_pop  ...  trans_day  trans_month  trans_year  trans_dayofweek  \\\n",
      "0  28654      3495  ...          1            1        2019                1   \n",
      "1  99160       149  ...          1            1        2019                1   \n",
      "2  83252      4154  ...          1            1        2019                1   \n",
      "3  59632      1939  ...          1            1        2019                1   \n",
      "4  24433        99  ...          1            1        2019                1   \n",
      "\n",
      "   dob_day  dob_month  dob_year  merchant_buyer_distance  merchant_cluster_id  \\\n",
      "0        9          3      1988                 0.872830                   16   \n",
      "1       21          6      1978                 0.272310                   10   \n",
      "2       19          1      1962                 0.975845                    2   \n",
      "3       12          1      1967                 0.919802                   -1   \n",
      "4       28          3      1986                 0.868505                   36   \n",
      "\n",
      "   buyer_cluster_id  \n",
      "0                16  \n",
      "1                10  \n",
      "2                 2  \n",
      "3                29  \n",
      "4                36  \n",
      "\n",
      "[5 rows x 25 columns]\n"
     ]
    }
   ],
   "source": [
    "# Load the dataset \n",
    "data = clean_data(\"fraud.csv\")"
   ]
  },
  {
   "cell_type": "code",
   "execution_count": 6,
   "metadata": {},
   "outputs": [],
   "source": [
    "# Splitting features and target variable\n",
    "X = data.drop(\"is_fraud\", axis=1)\n",
    "y = data[\"is_fraud\"]\n",
    "X_train, X_test, y_train, y_test = train_test_split(X, y, test_size=0.4, random_state=42)"
   ]
  },
  {
   "cell_type": "code",
   "execution_count": 7,
   "metadata": {},
   "outputs": [
    {
     "name": "stdout",
     "output_type": "stream",
     "text": [
      "fitting the model\n"
     ]
    },
    {
     "name": "stderr",
     "output_type": "stream",
     "text": [
      "/Users/ankelovset/anaconda3/envs/skoperules38/lib/python3.8/site-packages/sklearn/ensemble/_base.py:156: FutureWarning: `base_estimator` was renamed to `estimator` in version 1.2 and will be removed in 1.4.\n",
      "  warnings.warn(\n",
      "/Users/ankelovset/anaconda3/envs/skoperules38/lib/python3.8/site-packages/sklearn/ensemble/_base.py:156: FutureWarning: `base_estimator` was renamed to `estimator` in version 1.2 and will be removed in 1.4.\n",
      "  warnings.warn(\n"
     ]
    },
    {
     "data": {
      "text/html": [
       "<style>#sk-container-id-1 {color: black;}#sk-container-id-1 pre{padding: 0;}#sk-container-id-1 div.sk-toggleable {background-color: white;}#sk-container-id-1 label.sk-toggleable__label {cursor: pointer;display: block;width: 100%;margin-bottom: 0;padding: 0.3em;box-sizing: border-box;text-align: center;}#sk-container-id-1 label.sk-toggleable__label-arrow:before {content: \"▸\";float: left;margin-right: 0.25em;color: #696969;}#sk-container-id-1 label.sk-toggleable__label-arrow:hover:before {color: black;}#sk-container-id-1 div.sk-estimator:hover label.sk-toggleable__label-arrow:before {color: black;}#sk-container-id-1 div.sk-toggleable__content {max-height: 0;max-width: 0;overflow: hidden;text-align: left;background-color: #f0f8ff;}#sk-container-id-1 div.sk-toggleable__content pre {margin: 0.2em;color: black;border-radius: 0.25em;background-color: #f0f8ff;}#sk-container-id-1 input.sk-toggleable__control:checked~div.sk-toggleable__content {max-height: 200px;max-width: 100%;overflow: auto;}#sk-container-id-1 input.sk-toggleable__control:checked~label.sk-toggleable__label-arrow:before {content: \"▾\";}#sk-container-id-1 div.sk-estimator input.sk-toggleable__control:checked~label.sk-toggleable__label {background-color: #d4ebff;}#sk-container-id-1 div.sk-label input.sk-toggleable__control:checked~label.sk-toggleable__label {background-color: #d4ebff;}#sk-container-id-1 input.sk-hidden--visually {border: 0;clip: rect(1px 1px 1px 1px);clip: rect(1px, 1px, 1px, 1px);height: 1px;margin: -1px;overflow: hidden;padding: 0;position: absolute;width: 1px;}#sk-container-id-1 div.sk-estimator {font-family: monospace;background-color: #f0f8ff;border: 1px dotted black;border-radius: 0.25em;box-sizing: border-box;margin-bottom: 0.5em;}#sk-container-id-1 div.sk-estimator:hover {background-color: #d4ebff;}#sk-container-id-1 div.sk-parallel-item::after {content: \"\";width: 100%;border-bottom: 1px solid gray;flex-grow: 1;}#sk-container-id-1 div.sk-label:hover label.sk-toggleable__label {background-color: #d4ebff;}#sk-container-id-1 div.sk-serial::before {content: \"\";position: absolute;border-left: 1px solid gray;box-sizing: border-box;top: 0;bottom: 0;left: 50%;z-index: 0;}#sk-container-id-1 div.sk-serial {display: flex;flex-direction: column;align-items: center;background-color: white;padding-right: 0.2em;padding-left: 0.2em;position: relative;}#sk-container-id-1 div.sk-item {position: relative;z-index: 1;}#sk-container-id-1 div.sk-parallel {display: flex;align-items: stretch;justify-content: center;background-color: white;position: relative;}#sk-container-id-1 div.sk-item::before, #sk-container-id-1 div.sk-parallel-item::before {content: \"\";position: absolute;border-left: 1px solid gray;box-sizing: border-box;top: 0;bottom: 0;left: 50%;z-index: -1;}#sk-container-id-1 div.sk-parallel-item {display: flex;flex-direction: column;z-index: 1;position: relative;background-color: white;}#sk-container-id-1 div.sk-parallel-item:first-child::after {align-self: flex-end;width: 50%;}#sk-container-id-1 div.sk-parallel-item:last-child::after {align-self: flex-start;width: 50%;}#sk-container-id-1 div.sk-parallel-item:only-child::after {width: 0;}#sk-container-id-1 div.sk-dashed-wrapped {border: 1px dashed gray;margin: 0 0.4em 0.5em 0.4em;box-sizing: border-box;padding-bottom: 0.4em;background-color: white;}#sk-container-id-1 div.sk-label label {font-family: monospace;font-weight: bold;display: inline-block;line-height: 1.2em;}#sk-container-id-1 div.sk-label-container {text-align: center;}#sk-container-id-1 div.sk-container {/* jupyter's `normalize.less` sets `[hidden] { display: none; }` but bootstrap.min.css set `[hidden] { display: none !important; }` so we also need the `!important` here to be able to override the default hidden behavior on the sphinx rendered scikit-learn.org. See: https://github.com/scikit-learn/scikit-learn/issues/21755 */display: inline-block !important;position: relative;}#sk-container-id-1 div.sk-text-repr-fallback {display: none;}</style><div id=\"sk-container-id-1\" class=\"sk-top-container\"><div class=\"sk-text-repr-fallback\"><pre>SkopeRules(feature_names=Index([&#x27;cc_num&#x27;, &#x27;merchant&#x27;, &#x27;category&#x27;, &#x27;amt&#x27;, &#x27;gender&#x27;, &#x27;street&#x27;, &#x27;city&#x27;,\n",
       "       &#x27;state&#x27;, &#x27;zip&#x27;, &#x27;city_pop&#x27;, &#x27;job&#x27;, &#x27;trans_num&#x27;, &#x27;trans_minute&#x27;,\n",
       "       &#x27;trans_hour&#x27;, &#x27;trans_day&#x27;, &#x27;trans_month&#x27;, &#x27;trans_year&#x27;,\n",
       "       &#x27;trans_dayofweek&#x27;, &#x27;dob_day&#x27;, &#x27;dob_month&#x27;, &#x27;dob_year&#x27;,\n",
       "       &#x27;merchant_buyer_distance&#x27;, &#x27;merchant_cluster_id&#x27;, &#x27;buyer_cluster_id&#x27;],\n",
       "      dtype=&#x27;object&#x27;),\n",
       "           n_estimators=30, random_state=42)</pre><b>In a Jupyter environment, please rerun this cell to show the HTML representation or trust the notebook. <br />On GitHub, the HTML representation is unable to render, please try loading this page with nbviewer.org.</b></div><div class=\"sk-container\" hidden><div class=\"sk-item\"><div class=\"sk-estimator sk-toggleable\"><input class=\"sk-toggleable__control sk-hidden--visually\" id=\"sk-estimator-id-1\" type=\"checkbox\" checked><label for=\"sk-estimator-id-1\" class=\"sk-toggleable__label sk-toggleable__label-arrow\">SkopeRules</label><div class=\"sk-toggleable__content\"><pre>SkopeRules(feature_names=Index([&#x27;cc_num&#x27;, &#x27;merchant&#x27;, &#x27;category&#x27;, &#x27;amt&#x27;, &#x27;gender&#x27;, &#x27;street&#x27;, &#x27;city&#x27;,\n",
       "       &#x27;state&#x27;, &#x27;zip&#x27;, &#x27;city_pop&#x27;, &#x27;job&#x27;, &#x27;trans_num&#x27;, &#x27;trans_minute&#x27;,\n",
       "       &#x27;trans_hour&#x27;, &#x27;trans_day&#x27;, &#x27;trans_month&#x27;, &#x27;trans_year&#x27;,\n",
       "       &#x27;trans_dayofweek&#x27;, &#x27;dob_day&#x27;, &#x27;dob_month&#x27;, &#x27;dob_year&#x27;,\n",
       "       &#x27;merchant_buyer_distance&#x27;, &#x27;merchant_cluster_id&#x27;, &#x27;buyer_cluster_id&#x27;],\n",
       "      dtype=&#x27;object&#x27;),\n",
       "           n_estimators=30, random_state=42)</pre></div></div></div></div></div>"
      ],
      "text/plain": [
       "SkopeRules(feature_names=Index(['cc_num', 'merchant', 'category', 'amt', 'gender', 'street', 'city',\n",
       "       'state', 'zip', 'city_pop', 'job', 'trans_num', 'trans_minute',\n",
       "       'trans_hour', 'trans_day', 'trans_month', 'trans_year',\n",
       "       'trans_dayofweek', 'dob_day', 'dob_month', 'dob_year',\n",
       "       'merchant_buyer_distance', 'merchant_cluster_id', 'buyer_cluster_id'],\n",
       "      dtype='object'),\n",
       "           n_estimators=30, random_state=42)"
      ]
     },
     "execution_count": 7,
     "metadata": {},
     "output_type": "execute_result"
    }
   ],
   "source": [
    "# Step 3: Fit the SkopeRules model\n",
    "skope = SkopeRules(\n",
    "    feature_names=X_train.columns,\n",
    "    precision_min=0.5,\n",
    "    recall_min=0.01,\n",
    "    n_estimators=30,\n",
    "    random_state=42\n",
    ")\n",
    "\n",
    "print(\"fitting the model\")\n",
    "skope.fit(X_train, y_train)"
   ]
  },
  {
   "cell_type": "code",
   "execution_count": 8,
   "metadata": {},
   "outputs": [],
   "source": [
    "#def predict_as_proba(X):\n",
    "#    preds = skope.predict(X)  # skope.predict returns 0 or 1\n",
    "#    return np.vstack([1 - preds, preds]).T  # Turn into probabilities"
   ]
  },
  {
   "cell_type": "code",
   "execution_count": 9,
   "metadata": {},
   "outputs": [],
   "source": [
    "# Pick some explanation baseline \n",
    "#X_explain = X_train.sample(100, random_state=42)\n",
    "\n",
    "# Use shap.Explainer (not KernelExplainer)\n",
    "#explainer = shap.KernelExplainer(predict_as_proba, X_explain)\n",
    "\n",
    "# Compute SHAP values\n",
    "#X_test_sample = X_test.sample(100, random_state=42)\n",
    "#shap_values = explainer.shap_values(X_test)\n",
    "\n",
    "#shap.summary_plot(shap_values[1], X_test_sample, plot_type=\"violin\", show=False)\n",
    "#plt.savefig(\"shap_summary_violin2.png\")\n",
    "#plt.close()"
   ]
  },
  {
   "cell_type": "code",
   "execution_count": 10,
   "metadata": {},
   "outputs": [
    {
     "name": "stdout",
     "output_type": "stream",
     "text": [
      "finding rules for is_fraud\n",
      "printing rules\n",
      "('trans_hour > 21.5 and amt <= 1258.719970703125 and amt > 713.010009765625', (0.8612975391498882, 0.3246205733558179, 2))\n",
      "\n",
      "====================\n",
      "\n",
      "('trans_hour > 21.5 and amt <= 1258.5549926757812 and amt > 712.3450012207031', (0.8526077097505669, 0.32164242942686055, 2))\n",
      "\n",
      "====================\n",
      "\n",
      "('trans_hour > 21.5 and amt <= 1206.8699951171875 and amt > 682.2449951171875', (0.8150537634408602, 0.32728842832469773, 2))\n",
      "\n",
      "====================\n",
      "\n",
      "('trans_hour > 21.5 and amt <= 1207.875 and amt > 713.0899963378906', (0.8554216867469879, 0.3178155774395703, 2))\n",
      "\n",
      "====================\n",
      "\n",
      "('trans_hour > 21.5 and amt <= 1254.7449951171875 and amt > 713.7649841308594', (0.8785714285714286, 0.31297709923664124, 2))\n",
      "\n",
      "====================\n",
      "\n",
      "('trans_hour > 21.5 and amt <= 1260.6849975585938 and amt > 713.0899963378906', (0.8554502369668247, 0.31013745704467355, 2))\n",
      "\n",
      "====================\n",
      "\n",
      "('trans_hour > 21.5 and amt <= 1260.6849975585938 and amt > 693.5050048828125', (0.8422273781902552, 0.3107876712328767, 2))\n",
      "\n",
      "====================\n",
      "\n",
      "('trans_hour > 21.5 and amt <= 1260.6849975585938 and amt > 713.6799926757812', (0.8536585365853658, 0.30864197530864196, 2))\n",
      "\n",
      "====================\n",
      "\n",
      "('trans_hour > 21.5 and amt <= 1258.719970703125 and amt > 705.510009765625', (0.852803738317757, 0.3074978938500421, 2))\n",
      "\n",
      "====================\n",
      "\n",
      "('trans_hour > 21.5 and amt <= 1258.719970703125 and amt > 713.0899963378906', (0.8476190476190476, 0.3079584775086505, 2))\n",
      "\n",
      "====================\n",
      "\n"
     ]
    }
   ],
   "source": [
    "print(\"finding rules for is_fraud\")\n",
    "rules = skope.rules_[:10]\n",
    "\n",
    "print(\"printing rules\")\n",
    "for rule in rules:\n",
    "    print(rule)\n",
    "    print()\n",
    "    print(20*'=')\n",
    "    print()"
   ]
  },
  {
   "cell_type": "code",
   "execution_count": 11,
   "metadata": {},
   "outputs": [
    {
     "name": "stdout",
     "output_type": "stream",
     "text": [
      "SkopeRules Classification Report:\n",
      "              precision    recall  f1-score   support\n",
      "\n",
      "           0       1.00      1.00      1.00    737109\n",
      "           1       0.60      0.58      0.59      3849\n",
      "\n",
      "    accuracy                           1.00    740958\n",
      "   macro avg       0.80      0.79      0.79    740958\n",
      "weighted avg       1.00      1.00      1.00    740958\n",
      "\n"
     ]
    }
   ],
   "source": [
    "# Step 4: Predict and evaluate\n",
    "y_pred_skope = skope.predict(X_test)\n",
    "\n",
    "print(\"SkopeRules Classification Report:\")\n",
    "print(classification_report(y_test, y_pred_skope))"
   ]
  },
  {
   "cell_type": "code",
   "execution_count": 12,
   "metadata": {},
   "outputs": [
    {
     "data": {
      "text/plain": [
       "<sklearn.metrics._plot.confusion_matrix.ConfusionMatrixDisplay at 0x158ab5790>"
      ]
     },
     "execution_count": 12,
     "metadata": {},
     "output_type": "execute_result"
    }
   ],
   "source": [
    "# Confusion matrix\n",
    "cm = confusion_matrix(y_test, y_pred_skope)\n",
    "disp = ConfusionMatrixDisplay(confusion_matrix=cm, display_labels=[\"Not Fraud\", \"Fraud\"])\n",
    "disp.plot(cmap=\"Oranges\")"
   ]
  }
 ],
 "metadata": {
  "kernelspec": {
   "display_name": "skoperules38",
   "language": "python",
   "name": "python3"
  },
  "language_info": {
   "codemirror_mode": {
    "name": "ipython",
    "version": 3
   },
   "file_extension": ".py",
   "mimetype": "text/x-python",
   "name": "python",
   "nbconvert_exporter": "python",
   "pygments_lexer": "ipython3",
   "version": "3.8.20"
  }
 },
 "nbformat": 4,
 "nbformat_minor": 2
}
