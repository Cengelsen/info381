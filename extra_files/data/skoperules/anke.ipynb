{
 "cells": [
  {
   "cell_type": "markdown",
   "metadata": {},
   "source": [
    "Linear regression"
   ]
  },
  {
   "cell_type": "code",
   "execution_count": 1,
   "metadata": {},
   "outputs": [
    {
     "name": "stdout",
     "output_type": "stream",
     "text": [
      "Linear regression\n"
     ]
    }
   ],
   "source": [
    "print('Linear regression')"
   ]
  },
  {
   "cell_type": "code",
   "execution_count": null,
   "metadata": {},
   "outputs": [],
   "source": [
    "import pandas as pd\n",
    "import numpy as np\n",
    "import matplotlib.pyplot as plt\n",
    "import seaborn as sns\n",
    "from sklearn.model_selection import train_test_split\n",
    "from sklearn.preprocessing import LabelEncoder, StandardScaler\n",
    "from sklearn.ensemble import RandomForestClassifier\n",
    "from sklearn.metrics import classification_report, accuracy_score"
   ]
  },
  {
   "cell_type": "code",
   "execution_count": null,
   "metadata": {},
   "outputs": [],
   "source": [
    "# Load the dataset \n",
    "\n",
    "training = \"/Users/ankelovset/Documents/Master/2. Semester/INFO381 - Artificial Intelligence/Project381/archive (1)/fraudTrain.csv\"\n",
    "testing = \"/Users/ankelovset/Documents/Master/2. Semester/INFO381 - Artificial Intelligence/Project381/archive (1)/fraudTest.csv\"\n",
    "\n",
    "df_train = pd.read_csv(training)\n",
    "df_test = pd.read_csv(testing)\n"
   ]
  },
  {
   "cell_type": "code",
   "execution_count": null,
   "metadata": {},
   "outputs": [],
   "source": [
    "# Selecting relevant features\n",
    "features = [\"trans_date_trans_time\", \"category\", \"amt\", \"gender\", \"zip\", \"city_pop\", \"job\", \"dob\", \"merch_lat\", \"merch_long\", \"is_fraud\"]\n",
    "df_train = df_train[features]\n",
    "df_test = df_test[features]"
   ]
  },
  {
   "cell_type": "code",
   "execution_count": null,
   "metadata": {},
   "outputs": [],
   "source": [
    "# Convert date columns to datetime format\n",
    "df_train[\"trans_date_trans_time\"] = pd.to_datetime(df_train[\"trans_date_trans_time\"])\n",
    "df_train[\"dob\"] = pd.to_datetime(df_train[\"dob\"])\n",
    "df_test[\"trans_date_trans_time\"] = pd.to_datetime(df_test[\"trans_date_trans_time\"])\n",
    "df_test[\"dob\"] = pd.to_datetime(df_test[\"dob\"])"
   ]
  },
  {
   "cell_type": "code",
   "execution_count": null,
   "metadata": {},
   "outputs": [],
   "source": [
    "# Create age feature\n",
    "df_train[\"age\"] = (df_train[\"trans_date_trans_time\"] - df_train[\"dob\"]).dt.days // 365\n",
    "df_test[\"age\"] = (df_test[\"trans_date_trans_time\"] - df_test[\"dob\"]).dt.days // 365\n",
    "df_train.drop(columns=[\"dob\", \"trans_date_trans_time\"], inplace=True)\n",
    "df_test.drop(columns=[\"dob\", \"trans_date_trans_time\"], inplace=True)"
   ]
  },
  {
   "cell_type": "code",
   "execution_count": null,
   "metadata": {},
   "outputs": [],
   "source": [
    "from sklearn.preprocessing import LabelEncoder\n",
    "\n",
    "label_encoders = {}\n",
    "categorical_cols = [\"category\", \"gender\", \"job\"]\n",
    "\n",
    "for col in categorical_cols:\n",
    "    le = LabelEncoder()\n",
    "    df_train[col] = le.fit_transform(df_train[col])\n",
    "    \n",
    "    # Map test data with known categories, set unknown labels to -1\n",
    "    df_test[col] = df_test[col].map(lambda s: le.transform([s])[0] if s in le.classes_ else -1)\n",
    "\n",
    "    label_encoders[col] = le"
   ]
  },
  {
   "cell_type": "code",
   "execution_count": null,
   "metadata": {},
   "outputs": [],
   "source": [
    "# Handle missing values\n",
    "df_train.fillna(df_train.median(), inplace=True)\n",
    "df_test.fillna(df_test.median(), inplace=True)"
   ]
  },
  {
   "cell_type": "code",
   "execution_count": null,
   "metadata": {},
   "outputs": [],
   "source": [
    "# Splitting features and target variable\n",
    "X_train = df_train.drop(columns=[\"is_fraud\"])\n",
    "y_train = df_train[\"is_fraud\"]\n",
    "X_test = df_test.drop(columns=[\"is_fraud\"])\n",
    "y_test = df_test[\"is_fraud\"]"
   ]
  },
  {
   "cell_type": "code",
   "execution_count": null,
   "metadata": {},
   "outputs": [],
   "source": [
    "# Normalize numerical features\n",
    "scaler = StandardScaler()\n",
    "numerical_cols = [\"amt\", \"zip\", \"city_pop\", \"merch_lat\", \"merch_long\", \"age\"]\n",
    "X_train[numerical_cols] = scaler.fit_transform(X_train[numerical_cols])\n",
    "X_test[numerical_cols] = scaler.transform(X_test[numerical_cols])"
   ]
  },
  {
   "cell_type": "code",
   "execution_count": null,
   "metadata": {},
   "outputs": [],
   "source": [
    "# Train a Logistic Regression model\n",
    "from sklearn.linear_model import LogisticRegression\n",
    "\n",
    "model = LogisticRegression(max_iter=500, random_state=42)\n",
    "model.fit(X_train, y_train)\n",
    "y_pred = model.predict(X_test)"
   ]
  },
  {
   "cell_type": "code",
   "execution_count": null,
   "metadata": {},
   "outputs": [],
   "source": [
    "# Evaluate the model\n",
    "print(\"Accuracy:\", accuracy_score(y_test, y_pred))\n",
    "print(classification_report(y_test, y_pred))"
   ]
  },
  {
   "cell_type": "code",
   "execution_count": null,
   "metadata": {},
   "outputs": [],
   "source": [
    "# Visualizing feature importance\n",
    "plt.figure(figsize=(10,6))\n",
    "sns.barplot(x=np.abs(model.coef_).flatten(), y=X_train.columns)\n",
    "plt.xlabel(\"Feature Importance\")\n",
    "plt.ylabel(\"Features\")\n",
    "plt.title(\"Feature Importance in Fraud Detection (Logistic Regression)\")\n",
    "plt.show()"
   ]
  }
 ],
 "metadata": {
  "kernelspec": {
   "display_name": "test311",
   "language": "python",
   "name": "python3"
  },
  "language_info": {
   "codemirror_mode": {
    "name": "ipython",
    "version": 3
   },
   "file_extension": ".py",
   "mimetype": "text/x-python",
   "name": "python",
   "nbconvert_exporter": "python",
   "pygments_lexer": "ipython3",
   "version": "3.11.8"
  }
 },
 "nbformat": 4,
 "nbformat_minor": 2
}
